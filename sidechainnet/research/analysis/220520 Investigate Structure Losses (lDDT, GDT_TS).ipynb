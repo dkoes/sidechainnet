{
 "cells": [
  {
   "cell_type": "code",
   "execution_count": 13,
   "id": "6eeea316",
   "metadata": {},
   "outputs": [],
   "source": [
    "import sidechainnet as scn\n",
    "import numpy as np"
   ]
  },
  {
   "cell_type": "code",
   "execution_count": 2,
   "id": "cc294ad4",
   "metadata": {},
   "outputs": [
    {
     "name": "stdout",
     "output_type": "stream",
     "text": [
      "SidechainNet('debug', 30) was not found in {scn_dir}.\n",
      "Downloading from https://pitt.box.com/shared/static/1w087htft56umnedlgp9yo4frnhmaakt.pkl\n"
     ]
    },
    {
     "name": "stderr",
     "output_type": "stream",
     "text": [
      "Downloading file chunks (estimated): 317chunk [00:00, 464.35chunk/s]                                                           \n"
     ]
    },
    {
     "name": "stdout",
     "output_type": "stream",
     "text": [
      "Downloaded SidechainNet to ./sidechainnet_data/sidechainnet_debug.pkl.\n",
      "SidechainNet was loaded from ./sidechainnet_data/sidechainnet_debug.pkl.\n"
     ]
    }
   ],
   "source": [
    "d = scn.load('debug', scn_dataset=True)"
   ]
  },
  {
   "cell_type": "code",
   "execution_count": null,
   "id": "6b492b38",
   "metadata": {},
   "outputs": [],
   "source": [
    "def gdt_ts(true, pred):\n",
    "    \"\"\"Compute GDT_TS between true (nan-padded) and predicted coordinate tensors.\n",
    "\n",
    "    Args:\n",
    "        true (tensor): True atomic coordinates, must be padded with nans.\n",
    "        pred (tensor): Predicted atomic coordinates.\n",
    "\n",
    "    Returns:\n",
    "        gdt_ts: Value of GDT_TS.\n",
    "    \"\"\"\n",
    "    thresholds = np.array([1, 2, 4, 8])\n",
    "    transformation = pr.calcTransformation(pred, true)\n",
    "    pred_aligned = transformation.apply(pred)\n",
    "    \n",
    "    \n",
    "    "
   ]
  },
  {
   "cell_type": "code",
   "execution_count": 4,
   "id": "f1f074f3",
   "metadata": {
    "scrolled": true
   },
   "outputs": [
    {
     "data": {
      "text/plain": [
       "array([[  9.192,  64.268,   3.337],\n",
       "       [ 10.005,  64.754,   2.182],\n",
       "       [  9.98 ,  63.678,   1.068],\n",
       "       [  9.422,  62.601,   1.267],\n",
       "       [ 11.428,  65.07 ,   2.687],\n",
       "       [ 12.34 ,  65.863,   1.745],\n",
       "       [ 12.078,  66.246,   0.445],\n",
       "       [ 13.199,  66.816,  -0.122],\n",
       "       [ 14.206,  66.829,   0.806],\n",
       "       [ 15.516,  67.304,   0.703],\n",
       "       [ 16.317,  67.196,   1.812],\n",
       "       [ 15.844,  66.631,   3.013],\n",
       "       [ 14.545,  66.157,   3.118],\n",
       "       [ 13.701,  66.25 ,   2.   ],\n",
       "       [ 10.498,  63.999,  -0.119],\n",
       "       [ 10.527,  63.054,  -1.247],\n",
       "       [ 11.923,  62.867,  -1.876],\n",
       "       [ 12.959,  63.115,  -1.248],\n",
       "       [  9.56 ,  63.511,  -2.347],\n",
       "       [ 10.053,  64.644,  -3.26 ],\n",
       "       [  9.235,  64.688,  -4.54 ],\n",
       "       [ 10.025,  65.976,  -2.533],\n",
       "       [    nan,     nan,     nan],\n",
       "       [    nan,     nan,     nan],\n",
       "       [    nan,     nan,     nan],\n",
       "       [    nan,     nan,     nan],\n",
       "       [    nan,     nan,     nan],\n",
       "       [    nan,     nan,     nan],\n",
       "       [ 11.933,  62.397,  -3.119],\n",
       "       [ 13.17 ,  62.196,  -3.854],\n",
       "       [ 13.327,  63.333,  -4.862],\n",
       "       [ 12.341,  63.871,  -5.373],\n",
       "       [ 13.16 ,  60.841,  -4.559],\n",
       "       [ 14.521,  60.457,  -5.107],\n",
       "       [ 15.078,  61.208,  -5.93 ],\n",
       "       [ 15.036,  59.388,  -4.729],\n",
       "       [    nan,     nan,     nan],\n",
       "       [    nan,     nan,     nan],\n",
       "       [    nan,     nan,     nan],\n",
       "       [    nan,     nan,     nan],\n",
       "       [    nan,     nan,     nan],\n",
       "       [    nan,     nan,     nan],\n",
       "       [ 14.573,  63.625,  -5.211],\n",
       "       [ 14.894,  64.726,  -6.113],\n",
       "       [ 16.21 ,  64.509,  -6.912],\n",
       "       [ 17.066,  63.727,  -6.487],\n",
       "       [ 15.031,  65.965,  -5.213],\n",
       "       [ 15.42 ,  67.341,  -5.734],\n",
       "       [ 14.306,  67.789,  -6.642],\n",
       "       [ 15.632,  68.337,  -4.577],\n",
       "       [    nan,     nan,     nan],\n",
       "       [    nan,     nan,     nan],\n",
       "       [    nan,     nan,     nan],\n",
       "       [    nan,     nan,     nan],\n",
       "       [    nan,     nan,     nan],\n",
       "       [    nan,     nan,     nan],\n",
       "       [ 16.342,  65.145,  -8.083],\n",
       "       [ 17.586,  65.096,  -8.889],\n",
       "       [ 17.78 ,  66.39 ,  -9.692],\n",
       "       [ 16.795,  66.863, -10.297],\n",
       "       [ 17.677,  63.895,  -9.852],\n",
       "       [ 19.077,  63.817, -10.539],\n",
       "       [ 19.159,  62.88 , -11.741],\n",
       "       [ 18.338,  61.95 , -11.841],\n",
       "       [ 20.06 ,  63.072, -12.589],\n",
       "       [    nan,     nan,     nan],\n",
       "       [    nan,     nan,     nan],\n",
       "       [    nan,     nan,     nan],\n",
       "       [    nan,     nan,     nan],\n",
       "       [    nan,     nan,     nan]])"
      ]
     },
     "execution_count": 4,
     "metadata": {},
     "output_type": "execute_result"
    }
   ],
   "source": [
    "d[0].coords"
   ]
  },
  {
   "cell_type": "code",
   "execution_count": 22,
   "id": "9e9bf78c",
   "metadata": {},
   "outputs": [],
   "source": [
    "c1 = d[0].coords.copy()[0:3, :]"
   ]
  },
  {
   "cell_type": "code",
   "execution_count": 23,
   "id": "c1c0f492",
   "metadata": {},
   "outputs": [],
   "source": [
    "c2 = c1.copy()"
   ]
  },
  {
   "cell_type": "code",
   "execution_count": 24,
   "id": "d98777bc",
   "metadata": {},
   "outputs": [],
   "source": [
    "c1 = torch.tensor(c1)\n",
    "c2 = torch.tensor(c2)"
   ]
  },
  {
   "cell_type": "code",
   "execution_count": 25,
   "id": "99780003",
   "metadata": {},
   "outputs": [],
   "source": [
    "c1[0,:] -= .5"
   ]
  },
  {
   "cell_type": "code",
   "execution_count": 26,
   "id": "0340b496",
   "metadata": {},
   "outputs": [
    {
     "data": {
      "text/plain": [
       "(tensor([[ 8.6920, 63.7680,  2.8370],\n",
       "         [10.0050, 64.7540,  2.1820],\n",
       "         [ 9.9800, 63.6780,  1.0680]], dtype=torch.float64),\n",
       " tensor([[ 9.1920, 64.2680,  3.3370],\n",
       "         [10.0050, 64.7540,  2.1820],\n",
       "         [ 9.9800, 63.6780,  1.0680]], dtype=torch.float64))"
      ]
     },
     "execution_count": 26,
     "metadata": {},
     "output_type": "execute_result"
    }
   ],
   "source": [
    "c1, c2"
   ]
  },
  {
   "cell_type": "code",
   "execution_count": 27,
   "id": "fb34f37f",
   "metadata": {},
   "outputs": [],
   "source": [
    "import torch"
   ]
  },
  {
   "cell_type": "code",
   "execution_count": 29,
   "id": "570d7d14",
   "metadata": {},
   "outputs": [
    {
     "data": {
      "text/plain": [
       "tensor([0.8660, 0.0000, 0.0000], dtype=torch.float64)"
      ]
     },
     "execution_count": 29,
     "metadata": {},
     "output_type": "execute_result"
    }
   ],
   "source": [
    "torch.norm(c1-c2, dim=-1)"
   ]
  },
  {
   "cell_type": "code",
   "execution_count": null,
   "id": "9a59c16c",
   "metadata": {},
   "outputs": [],
   "source": []
  }
 ],
 "metadata": {
  "kernelspec": {
   "display_name": "Python [conda env:sidechainnetv2]",
   "language": "python",
   "name": "conda-env-sidechainnetv2-py"
  },
  "language_info": {
   "codemirror_mode": {
    "name": "ipython",
    "version": 3
   },
   "file_extension": ".py",
   "mimetype": "text/x-python",
   "name": "python",
   "nbconvert_exporter": "python",
   "pygments_lexer": "ipython3",
   "version": "3.8.12"
  }
 },
 "nbformat": 4,
 "nbformat_minor": 5
}
